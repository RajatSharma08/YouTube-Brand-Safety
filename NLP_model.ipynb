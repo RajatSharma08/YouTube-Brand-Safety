{
 "cells": [
  {
   "cell_type": "code",
   "execution_count": 39,
   "metadata": {},
   "outputs": [],
   "source": [
    "import numpy as np\n",
    "import pandas as pd\n",
    "from sklearn.utils import shuffle\n",
    "from sklearn.model_selection import train_test_split\n",
    "from keras.preprocessing.text import Tokenizer\n",
    "from keras.preprocessing.sequence import pad_sequences\n",
    "from keras.models import Sequential\n",
    "from keras.layers import Dense\n",
    "from keras.layers import Flatten\n",
    "from keras.layers import Embedding\n",
    "from keras.layers.convolutional import Conv1D\n",
    "from keras.layers.convolutional import MaxPooling1D\n",
    "from sklearn.preprocessing import OneHotEncoder\n",
    "import matplotlib.pyplot as plt"
   ]
  },
  {
   "cell_type": "code",
   "execution_count": 40,
   "metadata": {},
   "outputs": [],
   "source": [
    "file = open('adult.txt', 'r',errors='ignore')\n",
    "# read all text\n",
    "adult = file.read()\n",
    "file = open('violence.txt', 'r',errors='ignore')\n",
    "violence = file.read()"
   ]
  },
  {
   "cell_type": "code",
   "execution_count": 41,
   "metadata": {},
   "outputs": [],
   "source": [
    "adult = adult.split('\\n')\n",
    "violence = violence.split('\\n')"
   ]
  },
  {
   "cell_type": "code",
   "execution_count": 42,
   "metadata": {},
   "outputs": [],
   "source": [
    "data = adult+violence"
   ]
  },
  {
   "cell_type": "code",
   "execution_count": 43,
   "metadata": {},
   "outputs": [],
   "source": [
    "tokenizer = Tokenizer()"
   ]
  },
  {
   "cell_type": "code",
   "execution_count": 44,
   "metadata": {},
   "outputs": [],
   "source": [
    "tokenizer.fit_on_texts(data)"
   ]
  },
  {
   "cell_type": "code",
   "execution_count": 45,
   "metadata": {},
   "outputs": [],
   "source": [
    "encoded_docs = tokenizer.texts_to_sequences(data)"
   ]
  },
  {
   "cell_type": "code",
   "execution_count": 46,
   "metadata": {},
   "outputs": [],
   "source": [
    "max_length = max([len(s.split()) for s in data])"
   ]
  },
  {
   "cell_type": "code",
   "execution_count": 47,
   "metadata": {},
   "outputs": [],
   "source": [
    "data= pad_sequences(encoded_docs,maxlen= max_length,padding='post')"
   ]
  },
  {
   "cell_type": "code",
   "execution_count": 48,
   "metadata": {},
   "outputs": [],
   "source": [
    "labels = np.array([0 for _ in range(len(adult))] + [1 for _ in range(len(violence))])"
   ]
  },
  {
   "cell_type": "code",
   "execution_count": 49,
   "metadata": {},
   "outputs": [
    {
     "name": "stderr",
     "output_type": "stream",
     "text": [
      "C:\\Users\\soura\\Anaconda3\\lib\\site-packages\\sklearn\\preprocessing\\_encoders.py:415: FutureWarning: The handling of integer data will change in version 0.22. Currently, the categories are determined based on the range [0, max(values)], while in the future they will be determined based on the unique values.\n",
      "If you want the future behaviour and silence this warning, you can specify \"categories='auto'\".\n",
      "In case you used a LabelEncoder before this OneHotEncoder to convert the categories to integers, then you can now use the OneHotEncoder directly.\n",
      "  warnings.warn(msg, FutureWarning)\n"
     ]
    }
   ],
   "source": [
    "oe_enc = OneHotEncoder()\n",
    "labels = oe_enc.fit_transform(np.array(labels).reshape(-1,1))"
   ]
  },
  {
   "cell_type": "code",
   "execution_count": 50,
   "metadata": {},
   "outputs": [],
   "source": [
    "vocab_size = len(tokenizer.word_index)+1"
   ]
  },
  {
   "cell_type": "code",
   "execution_count": 51,
   "metadata": {},
   "outputs": [],
   "source": [
    "data,labels = shuffle(data,labels)"
   ]
  },
  {
   "cell_type": "code",
   "execution_count": 58,
   "metadata": {},
   "outputs": [],
   "source": [
    "def plot_accuracy(x,history_cnn):\n",
    "    plt.figure(figsize=(15,5))\n",
    "    plt.subplot(121)\n",
    "    plt.title(\"Accuracy comparison\")\n",
    "    plt.plot(x,history_cnn.history['acc'],label='Train')\n",
    "    plt.plot(x,history_cnn.history['val_acc'],label='Test')\n",
    "    plt.legend()\n",
    "    plt.show()\n",
    "\n",
    "def plot_loss(x,history_cnn):\n",
    "    plt.figure(figsize=(15,5))\n",
    "    plt.subplot(121)\n",
    "    plt.title(\"Loss comparison\")\n",
    "    plt.plot(x,history_cnn.history['loss'],label='Train')\n",
    "    plt.plot(x,history_cnn.history['val_loss'],label='Test')\n",
    "    plt.legend()\n",
    "    plt.show()"
   ]
  },
  {
   "cell_type": "code",
   "execution_count": 53,
   "metadata": {},
   "outputs": [],
   "source": [
    "X_train,X_test,Y_train,Y_test = train_test_split(data,labels.toarray(),stratify=labels.toarray(),random_state=42)\n",
    "epochs = 25"
   ]
  },
  {
   "cell_type": "code",
   "execution_count": 54,
   "metadata": {},
   "outputs": [
    {
     "name": "stdout",
     "output_type": "stream",
     "text": [
      "Model: \"sequential_5\"\n",
      "_________________________________________________________________\n",
      "Layer (type)                 Output Shape              Param #   \n",
      "=================================================================\n",
      "embedding_5 (Embedding)      (None, 18, 100)           15400     \n",
      "_________________________________________________________________\n",
      "conv1d_5 (Conv1D)            (None, 11, 32)            25632     \n",
      "_________________________________________________________________\n",
      "max_pooling1d_5 (MaxPooling1 (None, 5, 32)             0         \n",
      "_________________________________________________________________\n",
      "flatten_5 (Flatten)          (None, 160)               0         \n",
      "_________________________________________________________________\n",
      "dense_9 (Dense)              (None, 10)                1610      \n",
      "_________________________________________________________________\n",
      "dense_10 (Dense)             (None, 2)                 22        \n",
      "=================================================================\n",
      "Total params: 42,664\n",
      "Trainable params: 42,664\n",
      "Non-trainable params: 0\n",
      "_________________________________________________________________\n",
      "None\n",
      "Train on 1406 samples, validate on 469 samples\n",
      "Epoch 1/25\n",
      "1406/1406 [==============================] - 4s 2ms/step - loss: 0.2856 - acc: 0.8695 - val_loss: 0.1417 - val_acc: 0.9574\n",
      "Epoch 2/25\n",
      "1406/1406 [==============================] - 3s 2ms/step - loss: 0.0412 - acc: 0.9836 - val_loss: 0.0343 - val_acc: 0.9872\n",
      "Epoch 3/25\n",
      "1406/1406 [==============================] - 3s 2ms/step - loss: 0.0310 - acc: 0.9872 - val_loss: 0.0333 - val_acc: 0.9861\n",
      "Epoch 4/25\n",
      "1406/1406 [==============================] - 2s 1ms/step - loss: 0.0240 - acc: 0.9908 - val_loss: 0.0268 - val_acc: 0.9829\n",
      "Epoch 5/25\n",
      "1406/1406 [==============================] - 2s 1ms/step - loss: 0.0209 - acc: 0.9897 - val_loss: 0.0195 - val_acc: 0.9893\n",
      "Epoch 6/25\n",
      "1406/1406 [==============================] - 2s 1ms/step - loss: 0.0182 - acc: 0.9890 - val_loss: 0.0278 - val_acc: 0.9893\n",
      "Epoch 7/25\n",
      "1406/1406 [==============================] - 2s 1ms/step - loss: 0.0179 - acc: 0.9908 - val_loss: 0.0524 - val_acc: 0.9808\n",
      "Epoch 8/25\n",
      "1406/1406 [==============================] - 2s 1ms/step - loss: 0.0168 - acc: 0.9904 - val_loss: 0.0141 - val_acc: 0.9936\n",
      "Epoch 9/25\n",
      "1406/1406 [==============================] - 2s 1ms/step - loss: 0.0128 - acc: 0.9936 - val_loss: 0.0176 - val_acc: 0.9893\n",
      "Epoch 10/25\n",
      "1406/1406 [==============================] - 2s 1ms/step - loss: 0.0147 - acc: 0.9947 - val_loss: 0.0233 - val_acc: 0.9893\n",
      "Epoch 11/25\n",
      "1406/1406 [==============================] - 2s 1ms/step - loss: 0.0133 - acc: 0.9943 - val_loss: 0.0174 - val_acc: 0.9936\n",
      "Epoch 12/25\n",
      "1406/1406 [==============================] - 2s 1ms/step - loss: 0.0181 - acc: 0.9911 - val_loss: 0.0291 - val_acc: 0.9893\n",
      "Epoch 13/25\n",
      "1406/1406 [==============================] - 2s 1ms/step - loss: 0.0154 - acc: 0.9936 - val_loss: 0.0134 - val_acc: 0.9893\n",
      "Epoch 14/25\n",
      "1406/1406 [==============================] - 2s 1ms/step - loss: 0.0119 - acc: 0.9943 - val_loss: 0.0122 - val_acc: 0.9936\n",
      "Epoch 15/25\n",
      "1406/1406 [==============================] - 2s 1ms/step - loss: 0.0141 - acc: 0.9925 - val_loss: 0.0124 - val_acc: 0.9936\n",
      "Epoch 16/25\n",
      "1406/1406 [==============================] - 2s 1ms/step - loss: 0.0125 - acc: 0.9943 - val_loss: 0.0257 - val_acc: 0.9893\n",
      "Epoch 17/25\n",
      "1406/1406 [==============================] - 2s 1ms/step - loss: 0.0162 - acc: 0.9932 - val_loss: 0.0227 - val_acc: 0.9893\n",
      "Epoch 18/25\n",
      "1406/1406 [==============================] - 2s 1ms/step - loss: 0.0152 - acc: 0.9915 - val_loss: 0.0218 - val_acc: 0.9893\n",
      "Epoch 19/25\n",
      "1406/1406 [==============================] - 2s 1ms/step - loss: 0.0130 - acc: 0.9929 - val_loss: 0.0189 - val_acc: 0.9893\n",
      "Epoch 20/25\n",
      "1406/1406 [==============================] - 2s 1ms/step - loss: 0.0113 - acc: 0.9950 - val_loss: 0.0241 - val_acc: 0.9893\n",
      "Epoch 21/25\n",
      "1406/1406 [==============================] - 2s 1ms/step - loss: 0.0136 - acc: 0.9929 - val_loss: 0.0242 - val_acc: 0.9893\n",
      "Epoch 22/25\n",
      "1406/1406 [==============================] - 2s 1ms/step - loss: 0.0126 - acc: 0.9932 - val_loss: 0.0156 - val_acc: 0.9893\n",
      "Epoch 23/25\n",
      "1406/1406 [==============================] - 2s 1ms/step - loss: 0.0120 - acc: 0.9943 - val_loss: 0.0178 - val_acc: 0.9893\n",
      "Epoch 24/25\n",
      "1406/1406 [==============================] - 2s 1ms/step - loss: 0.0124 - acc: 0.9943 - val_loss: 0.0118 - val_acc: 0.9936\n",
      "Epoch 25/25\n",
      "1406/1406 [==============================] - 2s 1ms/step - loss: 0.0121 - acc: 0.9940 - val_loss: 0.0176 - val_acc: 0.9893\n"
     ]
    }
   ],
   "source": [
    "model = Sequential()\n",
    "model.add(Embedding(vocab_size,100,input_length = max_length))\n",
    "model.add(Conv1D(filters=32,kernel_size=8,activation='relu'))\n",
    "model.add(MaxPooling1D(pool_size=2))\n",
    "model.add(Flatten())\n",
    "model.add(Dense(10,activation='relu'))\n",
    "model.add(Dense(2,activation='sigmoid'))\n",
    "print(model.summary(model.compile(loss='binary_crossentropy',optimizer='adam',metrics=['accuracy'])))\n",
    "history = model.fit(X_train,Y_train,epochs=epochs,verbose=1,validation_data = (X_test,Y_test),batch_size=4)"
   ]
  },
  {
   "cell_type": "code",
   "execution_count": 55,
   "metadata": {},
   "outputs": [
    {
     "data": {
      "image/png": "[encoded data removed]",
      "text/plain": [
       "<Figure size 1080x360 with 1 Axes>"
      ]
     },
     "metadata": {
      "needs_background": "light"
     },
     "output_type": "display_data"
    },
    {
     "data": {
      "image/png": "[encoded data removed]",
      "text/plain": [
       "<Figure size 1080x360 with 1 Axes>"
      ]
     },
     "metadata": {
      "needs_background": "light"
     },
     "output_type": "display_data"
    }
   ],
   "source": [
    "x = [i for i in range(1,epochs+1)]\n",
    "plot_accuracy(x,history)\n",
    "plot_loss(x,history)"
   ]
  },
  {
   "cell_type": "code",
   "execution_count": 56,
   "metadata": {},
   "outputs": [],
   "source": [
    "test = adult[0].split()\n",
    "tokenizer = Tokenizer()\n",
    "tokenizer.fit_on_texts(test)\n",
    "encoded_docs = tokenizer.texts_to_sequences(test)\n",
    "test= pad_sequences(encoded_docs,maxlen= max_length,padding='post')"
   ]
  },
  {
   "cell_type": "code",
   "execution_count": 57,
   "metadata": {},
   "outputs": [
    {
     "data": {
      "text/plain": [
       "array([[1.9028187e-02, 9.8284203e-01],\n",
       "       [9.9645984e-01, 5.3445697e-03],\n",
       "       [9.9652004e-01, 5.2277148e-03],\n",
       "       [9.9466383e-01, 7.5831413e-03],\n",
       "       [9.9920726e-01, 1.3593435e-03],\n",
       "       [9.9997300e-01, 6.1482191e-05],\n",
       "       [1.0461718e-02, 9.9100935e-01],\n",
       "       [1.5400523e-01, 8.4765595e-01],\n",
       "       [7.6728952e-01, 2.2125635e-01],\n",
       "       [8.7691098e-01, 1.1266565e-01],\n",
       "       [8.5451603e-01, 1.3382515e-01],\n",
       "       [9.9996251e-01, 8.3029270e-05],\n",
       "       [2.7120113e-05, 9.9998629e-01],\n",
       "       [4.0065289e-02, 9.6077192e-01]], dtype=float32)"
      ]
     },
     "execution_count": 57,
     "metadata": {},
     "output_type": "execute_result"
    }
   ],
   "source": [
    "model.predict(test)"
   ]
  },
  {
   "cell_type": "code",
   "execution_count": null,
   "metadata": {},
   "outputs": [],
   "source": []
  }
 ],
 "metadata": {
  "kernelspec": {
   "display_name": "Python 3",
   "language": "python",
   "name": "python3"
  },
  "language_info": {
   "codemirror_mode": {
    "name": "ipython",
    "version": 3
   },
   "file_extension": ".py",
   "mimetype": "text/x-python",
   "name": "python",
   "nbconvert_exporter": "python",
   "pygments_lexer": "ipython3",
   "version": "3.7.3"
  }
 },
 "nbformat": 4,
 "nbformat_minor": 2
}
